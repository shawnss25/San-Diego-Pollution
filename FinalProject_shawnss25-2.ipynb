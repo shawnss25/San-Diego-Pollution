{
 "cells": [
  {
   "cell_type": "markdown",
   "metadata": {},
   "source": [
    "# COGS 108 - Final Project "
   ]
  },
  {
   "cell_type": "markdown",
   "metadata": {},
   "source": [
    "# Overview"
   ]
  },
  {
   "cell_type": "markdown",
   "metadata": {},
   "source": [
    "The question is: with an increasing threat from climate change, would the San Diego park system be more affected by things such as pollution, water shortage, etc. Data was collected from 2014 and 2017 to see how pollution had changed over this three year span in the San Diego area. It was found that, in general, pollution went up with clean drinking water going down. From the data, it cannot be said that emissions in the San Diego area have gone up or down due to the limitation of data, but it can be concluded that the San Diego park system is at risk of the effects of climate change and steps must be made in order to preserve them. "
   ]
  },
  {
   "cell_type": "markdown",
   "metadata": {},
   "source": [
    "# Name & GitHub\n",
    "\n",
    "- Name: Shawn Sewell-Snyder\n",
    "- GitHub Username: shawnss25"
   ]
  },
  {
   "cell_type": "markdown",
   "metadata": {},
   "source": [
    "# Research Question"
   ]
  },
  {
   "cell_type": "markdown",
   "metadata": {},
   "source": [
    "With the steady increase in climate change, will the parks be more affected by pollution, groundwater threats, emissions, etc?"
   ]
  },
  {
   "cell_type": "markdown",
   "metadata": {},
   "source": [
    "## Background and Prior Work"
   ]
  },
  {
   "cell_type": "markdown",
   "metadata": {},
   "source": [
    "Climate change is becoming a major issue in today's world. It has the potential to cause droughts, raise sea levels, pollute the air and much more. According to census.gov (reference 2), San Diego is seeing a large increase in population. It is assumed that with more people, there will be more CO2 emissions (reference 1), only adding fuel to the climate change fire. With more CO2 emissions, the parks and rec centers in San Diego will be under an even greater threat.\n",
    "\n",
    "Thankfully, the city of San Diego has recognized this threat of climate change and has created a plan (reference 3) that will help curb the effects of global warming. For example, they want to reduce fuel consumption by 15% each year. Reference 1 shows the studies done which portrays things such as how the coast line would be affected by rising sea levels and the impact on water. Parks rely on water, for example, to keep everything green and prestine looking, and also rely on the coast line not being underwater/erroded by rising sea levels.\n",
    "\n",
    "References (include links):\n",
    "- 1) https://www.sandiego.gov/sites/default/files/legacy/environmental-services/pdf/sustainable/2050climate.pdf\n",
    "- 2) https://www.census.gov/quickfacts/geo/chart/sandiegocitycalifornia/PST045219\n",
    "- 3) https://www.sandiego.gov/sites/default/files/legacy/environmental-services/sustainable/pdf/action_plan_07_05.pdf"
   ]
  },
  {
   "cell_type": "markdown",
   "metadata": {},
   "source": [
    "# Hypothesis\n"
   ]
  },
  {
   "cell_type": "markdown",
   "metadata": {},
   "source": [
    "I hypothesize that even with an increase in population (reference 2), with the city's climate change plan (reference 3 above), the parks will experience little to no negative effects due to global warming. The city has done their research (reference 1 above) and knows the consequences if they do not act now, hence, the creation of their plan to effectively combat climate change.\n"
   ]
  },
  {
   "cell_type": "markdown",
   "metadata": {},
   "source": [
    "# Dataset(s)"
   ]
  },
  {
   "cell_type": "markdown",
   "metadata": {},
   "source": [
    "- Dataset Name: pollution_older.csv\n",
    "- Link to the dataset: https://data.ca.gov/dataset/calenviroscreen-2-0\n",
    "- Number of observations: 29 observations were used\n",
    "\n",
    "- Dataset Name: pollution_newer.csv\n",
    "- Link to the dataset: https://data.ca.gov/dataset/calenviroscreen-3-0-results\n",
    "- Number of observations: 29 observations were used\n",
    "\n",
    "Both of these datasets are essentially the same, except pollution_older is from 2014 and pollution_newer is from 2017. This was done to show the time difference and how the variables had changed over time. The two data sets have some different things (for example pollution_newer has a column called \"ZIP\" for zip code that pollution_older doesn't have and pollution_older has a column called \"hyperlink\" which links to a map which pollution_newer doesn't have). Both datasets will be cleaned and combined into a new dataset for further anaylsis. "
   ]
  },
  {
   "cell_type": "markdown",
   "metadata": {},
   "source": [
    "# Setup"
   ]
  },
  {
   "cell_type": "code",
   "execution_count": 1,
   "metadata": {},
   "outputs": [],
   "source": [
    "import pandas as pd\n",
    "import seaborn as sns\n",
    "import matplotlib.pyplot as plt\n",
    "import numpy as np"
   ]
  },
  {
   "cell_type": "markdown",
   "metadata": {},
   "source": [
    "# Data Cleaning"
   ]
  },
  {
   "cell_type": "markdown",
   "metadata": {},
   "source": [
    "To start, the data from the two data sets were read in, where the 2014 data was stored in the variable old_data and the 2017 data in new_data. Both data sets include all counties in California, so I narrowed it down to just San Diego county. The new_data dataset had a column for zip codes (which the old_data dataset does not), so I used this to help narrow the location to specifically San Diego rather than the whole county. I searched for the zip codes of San Diego county on google and choose the zip codes 92113, 92101 and 92104 as my sample zip codes as these zip codes encompass parks such as Balboa Park, Waterfront Park, South Embarcadero Park and more. After this, I made it so new_data and old_data shared the same columns and only the columns that were necesary to show for the research question (for example removing the \"poverty\" column). Then the rows with NaN's were dropped to only see data that was not missing anything.\n",
    "\n",
    "A function was created (shrink_tract) that kept the last four digits of the census tract number (Census tracts are essentially small districts that can be as small as a couple blocks). The tract number is a large number. Because the tract numbers are all in the San Diego area, the only unique part of the long number is the last four digits. To make analyzing the data easier, it was decided to only keep the last four digits of the tract numbers. \n",
    "\n",
    "new_data and old_data were then combined into a new dataframe called combined_dat. The columns were then arranged to show the data from old_data on the left and the new_data data on the right (as can be seen below). This was done to make it easier to compare the data from old_data and new_data, as they are both side by side. \n",
    "\n",
    "The data is as clean as needed to be able to carry out this research. The unneeded columns and NaNs were removed, leaving just the numbers in their respective categories. "
   ]
  },
  {
   "cell_type": "code",
   "execution_count": 2,
   "metadata": {},
   "outputs": [],
   "source": [
    "\n",
    "# Data from 2014\n",
    "old_data = pd.read_csv('pollution_older.csv')\n",
    "# Data from 2017\n",
    "new_data = pd.read_csv('pollution_newer.csv')\n",
    "\n",
    "# Make it only for San Diego County\n",
    "new_data = new_data.loc[new_data['California County'] == 'San Diego']\n",
    "\n",
    "# Make it so the nearby city is San Diego\n",
    "new_data = new_data.loc[new_data['Nearby City \\n(to help approximate location only)'] == 'San Diego']\n",
    "\n",
    "# Make it just downtown area of San Diego\n",
    "new_data = new_data.loc[(new_data['ZIP'] == 92101) | (new_data['ZIP'] == 92113) | (new_data['ZIP'] == 92104)]\n",
    "\n",
    "# Only display specific columns \n",
    "new_data = new_data[['Census Tract','CES 3.0 Score',\\\n",
    "                   'Diesel PM Pctl','Groundwater Threats Pctl',\\\n",
    "                   'Tox. Release Pctl', 'Haz. Waste Pctl', 'Solid Waste Pctl','Pollution Burden Pctl']]\n",
    "\n",
    "# Make it only for San Diego County\n",
    "old_data = old_data.loc[old_data['California County'] == 'San Diego']\n",
    "\n",
    "# Only display specific columns \n",
    "old_data = old_data[['Census Tract','CES 2.0 Score',\\\n",
    "                   'Diesel PM Pctl','Groundwater Threats Pctl',\\\n",
    "                   'Tox. Release Pctl', 'Haz. Waste Pctl', 'Solid Waste Pctl','Pollution Burden Pctl']]\n",
    "\n",
    "# Remove rows with NA data\n",
    "old_data = old_data.dropna()\n",
    "new_data = new_data.dropna()"
   ]
  },
  {
   "cell_type": "code",
   "execution_count": 3,
   "metadata": {},
   "outputs": [
    {
     "data": {
      "text/html": [
       "<div>\n",
       "<style scoped>\n",
       "    .dataframe tbody tr th:only-of-type {\n",
       "        vertical-align: middle;\n",
       "    }\n",
       "\n",
       "    .dataframe tbody tr th {\n",
       "        vertical-align: top;\n",
       "    }\n",
       "\n",
       "    .dataframe thead th {\n",
       "        text-align: right;\n",
       "    }\n",
       "</style>\n",
       "<table border=\"1\" class=\"dataframe\">\n",
       "  <thead>\n",
       "    <tr style=\"text-align: right;\">\n",
       "      <th></th>\n",
       "      <th>Census Tract</th>\n",
       "      <th>CES 2.0 Score</th>\n",
       "      <th>Diesel PM Pctl</th>\n",
       "      <th>Groundwater Threats Pctl</th>\n",
       "      <th>Tox. Release Pctl</th>\n",
       "      <th>Haz. Waste Pctl</th>\n",
       "      <th>Solid Waste Pctl</th>\n",
       "      <th>Pollution Burden Pctl</th>\n",
       "    </tr>\n",
       "  </thead>\n",
       "  <tbody>\n",
       "    <tr>\n",
       "      <th>165</th>\n",
       "      <td>6073005000</td>\n",
       "      <td>59.91</td>\n",
       "      <td>85.01</td>\n",
       "      <td>95.47</td>\n",
       "      <td>81.65</td>\n",
       "      <td>97.59</td>\n",
       "      <td>75.96</td>\n",
       "      <td>91.92</td>\n",
       "    </tr>\n",
       "    <tr>\n",
       "      <th>299</th>\n",
       "      <td>6073003601</td>\n",
       "      <td>55.61</td>\n",
       "      <td>77.77</td>\n",
       "      <td>88.42</td>\n",
       "      <td>59.95</td>\n",
       "      <td>87.18</td>\n",
       "      <td>81.49</td>\n",
       "      <td>84.64</td>\n",
       "    </tr>\n",
       "    <tr>\n",
       "      <th>370</th>\n",
       "      <td>6073004900</td>\n",
       "      <td>54.23</td>\n",
       "      <td>91.27</td>\n",
       "      <td>93.77</td>\n",
       "      <td>55.00</td>\n",
       "      <td>91.51</td>\n",
       "      <td>72.08</td>\n",
       "      <td>86.06</td>\n",
       "    </tr>\n",
       "    <tr>\n",
       "      <th>466</th>\n",
       "      <td>6073003902</td>\n",
       "      <td>52.48</td>\n",
       "      <td>85.39</td>\n",
       "      <td>76.98</td>\n",
       "      <td>57.58</td>\n",
       "      <td>95.96</td>\n",
       "      <td>0.00</td>\n",
       "      <td>76.91</td>\n",
       "    </tr>\n",
       "    <tr>\n",
       "      <th>805</th>\n",
       "      <td>6073003901</td>\n",
       "      <td>47.82</td>\n",
       "      <td>85.46</td>\n",
       "      <td>70.84</td>\n",
       "      <td>49.32</td>\n",
       "      <td>75.63</td>\n",
       "      <td>23.19</td>\n",
       "      <td>65.03</td>\n",
       "    </tr>\n",
       "    <tr>\n",
       "      <th>...</th>\n",
       "      <td>...</td>\n",
       "      <td>...</td>\n",
       "      <td>...</td>\n",
       "      <td>...</td>\n",
       "      <td>...</td>\n",
       "      <td>...</td>\n",
       "      <td>...</td>\n",
       "      <td>...</td>\n",
       "    </tr>\n",
       "    <tr>\n",
       "      <th>7904</th>\n",
       "      <td>6073017053</td>\n",
       "      <td>4.31</td>\n",
       "      <td>25.99</td>\n",
       "      <td>53.33</td>\n",
       "      <td>15.38</td>\n",
       "      <td>0.00</td>\n",
       "      <td>0.00</td>\n",
       "      <td>9.51</td>\n",
       "    </tr>\n",
       "    <tr>\n",
       "      <th>7908</th>\n",
       "      <td>6073008102</td>\n",
       "      <td>4.26</td>\n",
       "      <td>9.98</td>\n",
       "      <td>10.03</td>\n",
       "      <td>13.31</td>\n",
       "      <td>0.00</td>\n",
       "      <td>0.00</td>\n",
       "      <td>4.00</td>\n",
       "    </tr>\n",
       "    <tr>\n",
       "      <th>7943</th>\n",
       "      <td>6073007907</td>\n",
       "      <td>3.47</td>\n",
       "      <td>29.34</td>\n",
       "      <td>0.00</td>\n",
       "      <td>15.89</td>\n",
       "      <td>0.00</td>\n",
       "      <td>0.00</td>\n",
       "      <td>4.84</td>\n",
       "    </tr>\n",
       "    <tr>\n",
       "      <th>7951</th>\n",
       "      <td>6073007301</td>\n",
       "      <td>3.32</td>\n",
       "      <td>37.40</td>\n",
       "      <td>0.00</td>\n",
       "      <td>20.90</td>\n",
       "      <td>0.00</td>\n",
       "      <td>0.00</td>\n",
       "      <td>2.76</td>\n",
       "    </tr>\n",
       "    <tr>\n",
       "      <th>7961</th>\n",
       "      <td>6073008003</td>\n",
       "      <td>2.93</td>\n",
       "      <td>17.60</td>\n",
       "      <td>0.00</td>\n",
       "      <td>14.93</td>\n",
       "      <td>0.00</td>\n",
       "      <td>0.00</td>\n",
       "      <td>2.65</td>\n",
       "    </tr>\n",
       "  </tbody>\n",
       "</table>\n",
       "<p>623 rows × 8 columns</p>\n",
       "</div>"
      ],
      "text/plain": [
       "      Census Tract  CES 2.0 Score  Diesel PM Pctl  Groundwater Threats Pctl  \\\n",
       "165     6073005000          59.91           85.01                     95.47   \n",
       "299     6073003601          55.61           77.77                     88.42   \n",
       "370     6073004900          54.23           91.27                     93.77   \n",
       "466     6073003902          52.48           85.39                     76.98   \n",
       "805     6073003901          47.82           85.46                     70.84   \n",
       "...            ...            ...             ...                       ...   \n",
       "7904    6073017053           4.31           25.99                     53.33   \n",
       "7908    6073008102           4.26            9.98                     10.03   \n",
       "7943    6073007907           3.47           29.34                      0.00   \n",
       "7951    6073007301           3.32           37.40                      0.00   \n",
       "7961    6073008003           2.93           17.60                      0.00   \n",
       "\n",
       "      Tox. Release Pctl  Haz. Waste Pctl  Solid Waste Pctl  \\\n",
       "165               81.65            97.59             75.96   \n",
       "299               59.95            87.18             81.49   \n",
       "370               55.00            91.51             72.08   \n",
       "466               57.58            95.96              0.00   \n",
       "805               49.32            75.63             23.19   \n",
       "...                 ...              ...               ...   \n",
       "7904              15.38             0.00              0.00   \n",
       "7908              13.31             0.00              0.00   \n",
       "7943              15.89             0.00              0.00   \n",
       "7951              20.90             0.00              0.00   \n",
       "7961              14.93             0.00              0.00   \n",
       "\n",
       "      Pollution Burden Pctl  \n",
       "165                   91.92  \n",
       "299                   84.64  \n",
       "370                   86.06  \n",
       "466                   76.91  \n",
       "805                   65.03  \n",
       "...                     ...  \n",
       "7904                   9.51  \n",
       "7908                   4.00  \n",
       "7943                   4.84  \n",
       "7951                   2.76  \n",
       "7961                   2.65  \n",
       "\n",
       "[623 rows x 8 columns]"
      ]
     },
     "execution_count": 3,
     "metadata": {},
     "output_type": "execute_result"
    }
   ],
   "source": [
    "old_data"
   ]
  },
  {
   "cell_type": "code",
   "execution_count": 4,
   "metadata": {},
   "outputs": [
    {
     "data": {
      "text/html": [
       "<div>\n",
       "<style scoped>\n",
       "    .dataframe tbody tr th:only-of-type {\n",
       "        vertical-align: middle;\n",
       "    }\n",
       "\n",
       "    .dataframe tbody tr th {\n",
       "        vertical-align: top;\n",
       "    }\n",
       "\n",
       "    .dataframe thead th {\n",
       "        text-align: right;\n",
       "    }\n",
       "</style>\n",
       "<table border=\"1\" class=\"dataframe\">\n",
       "  <thead>\n",
       "    <tr style=\"text-align: right;\">\n",
       "      <th></th>\n",
       "      <th>Census Tract</th>\n",
       "      <th>CES 3.0 Score</th>\n",
       "      <th>Diesel PM Pctl</th>\n",
       "      <th>Groundwater Threats Pctl</th>\n",
       "      <th>Tox. Release Pctl</th>\n",
       "      <th>Haz. Waste Pctl</th>\n",
       "      <th>Solid Waste Pctl</th>\n",
       "      <th>Pollution Burden Pctl</th>\n",
       "    </tr>\n",
       "  </thead>\n",
       "  <tbody>\n",
       "    <tr>\n",
       "      <th>46</th>\n",
       "      <td>6073005000</td>\n",
       "      <td>70.91</td>\n",
       "      <td>99.65</td>\n",
       "      <td>96.79</td>\n",
       "      <td>61.84</td>\n",
       "      <td>97.37</td>\n",
       "      <td>93.61</td>\n",
       "      <td>95.82</td>\n",
       "    </tr>\n",
       "    <tr>\n",
       "      <th>78</th>\n",
       "      <td>6073004900</td>\n",
       "      <td>68.27</td>\n",
       "      <td>99.65</td>\n",
       "      <td>96.24</td>\n",
       "      <td>53.75</td>\n",
       "      <td>95.92</td>\n",
       "      <td>92.38</td>\n",
       "      <td>94.20</td>\n",
       "    </tr>\n",
       "    <tr>\n",
       "      <th>83</th>\n",
       "      <td>6073003902</td>\n",
       "      <td>67.79</td>\n",
       "      <td>97.08</td>\n",
       "      <td>80.80</td>\n",
       "      <td>78.14</td>\n",
       "      <td>98.37</td>\n",
       "      <td>96.39</td>\n",
       "      <td>94.50</td>\n",
       "    </tr>\n",
       "    <tr>\n",
       "      <th>102</th>\n",
       "      <td>6073003601</td>\n",
       "      <td>66.76</td>\n",
       "      <td>94.52</td>\n",
       "      <td>94.36</td>\n",
       "      <td>58.76</td>\n",
       "      <td>95.27</td>\n",
       "      <td>84.51</td>\n",
       "      <td>92.50</td>\n",
       "    </tr>\n",
       "    <tr>\n",
       "      <th>304</th>\n",
       "      <td>6073003901</td>\n",
       "      <td>59.42</td>\n",
       "      <td>97.98</td>\n",
       "      <td>74.91</td>\n",
       "      <td>56.14</td>\n",
       "      <td>82.35</td>\n",
       "      <td>84.77</td>\n",
       "      <td>81.28</td>\n",
       "    </tr>\n",
       "    <tr>\n",
       "      <th>334</th>\n",
       "      <td>6073005100</td>\n",
       "      <td>58.65</td>\n",
       "      <td>99.65</td>\n",
       "      <td>99.55</td>\n",
       "      <td>44.49</td>\n",
       "      <td>95.48</td>\n",
       "      <td>73.54</td>\n",
       "      <td>91.28</td>\n",
       "    </tr>\n",
       "    <tr>\n",
       "      <th>772</th>\n",
       "      <td>6073003603</td>\n",
       "      <td>51.41</td>\n",
       "      <td>97.24</td>\n",
       "      <td>90.75</td>\n",
       "      <td>55.70</td>\n",
       "      <td>46.52</td>\n",
       "      <td>73.54</td>\n",
       "      <td>82.04</td>\n",
       "    </tr>\n",
       "    <tr>\n",
       "      <th>908</th>\n",
       "      <td>6073003502</td>\n",
       "      <td>49.67</td>\n",
       "      <td>87.28</td>\n",
       "      <td>39.42</td>\n",
       "      <td>50.09</td>\n",
       "      <td>90.70</td>\n",
       "      <td>52.84</td>\n",
       "      <td>69.65</td>\n",
       "    </tr>\n",
       "    <tr>\n",
       "      <th>1100</th>\n",
       "      <td>6073003602</td>\n",
       "      <td>47.45</td>\n",
       "      <td>90.64</td>\n",
       "      <td>41.10</td>\n",
       "      <td>51.98</td>\n",
       "      <td>51.14</td>\n",
       "      <td>57.18</td>\n",
       "      <td>54.13</td>\n",
       "    </tr>\n",
       "    <tr>\n",
       "      <th>1173</th>\n",
       "      <td>6073003501</td>\n",
       "      <td>46.82</td>\n",
       "      <td>87.28</td>\n",
       "      <td>28.72</td>\n",
       "      <td>46.20</td>\n",
       "      <td>60.50</td>\n",
       "      <td>36.52</td>\n",
       "      <td>62.94</td>\n",
       "    </tr>\n",
       "    <tr>\n",
       "      <th>1222</th>\n",
       "      <td>6073005300</td>\n",
       "      <td>46.24</td>\n",
       "      <td>99.65</td>\n",
       "      <td>98.63</td>\n",
       "      <td>41.49</td>\n",
       "      <td>96.18</td>\n",
       "      <td>50.44</td>\n",
       "      <td>78.87</td>\n",
       "    </tr>\n",
       "    <tr>\n",
       "      <th>1228</th>\n",
       "      <td>6073005700</td>\n",
       "      <td>46.21</td>\n",
       "      <td>99.65</td>\n",
       "      <td>88.51</td>\n",
       "      <td>40.93</td>\n",
       "      <td>91.07</td>\n",
       "      <td>0.00</td>\n",
       "      <td>74.69</td>\n",
       "    </tr>\n",
       "    <tr>\n",
       "      <th>1252</th>\n",
       "      <td>6073003301</td>\n",
       "      <td>45.97</td>\n",
       "      <td>87.28</td>\n",
       "      <td>56.62</td>\n",
       "      <td>44.08</td>\n",
       "      <td>43.11</td>\n",
       "      <td>0.00</td>\n",
       "      <td>62.28</td>\n",
       "    </tr>\n",
       "    <tr>\n",
       "      <th>1875</th>\n",
       "      <td>6073003305</td>\n",
       "      <td>40.17</td>\n",
       "      <td>87.21</td>\n",
       "      <td>55.16</td>\n",
       "      <td>43.53</td>\n",
       "      <td>15.68</td>\n",
       "      <td>0.00</td>\n",
       "      <td>50.11</td>\n",
       "    </tr>\n",
       "    <tr>\n",
       "      <th>1930</th>\n",
       "      <td>6073005200</td>\n",
       "      <td>39.76</td>\n",
       "      <td>99.65</td>\n",
       "      <td>98.73</td>\n",
       "      <td>41.92</td>\n",
       "      <td>92.66</td>\n",
       "      <td>74.61</td>\n",
       "      <td>87.84</td>\n",
       "    </tr>\n",
       "    <tr>\n",
       "      <th>1942</th>\n",
       "      <td>6073003303</td>\n",
       "      <td>39.66</td>\n",
       "      <td>90.75</td>\n",
       "      <td>5.91</td>\n",
       "      <td>48.65</td>\n",
       "      <td>15.68</td>\n",
       "      <td>0.00</td>\n",
       "      <td>40.27</td>\n",
       "    </tr>\n",
       "    <tr>\n",
       "      <th>2912</th>\n",
       "      <td>6073005800</td>\n",
       "      <td>32.12</td>\n",
       "      <td>99.09</td>\n",
       "      <td>98.46</td>\n",
       "      <td>41.43</td>\n",
       "      <td>98.24</td>\n",
       "      <td>0.00</td>\n",
       "      <td>81.49</td>\n",
       "    </tr>\n",
       "    <tr>\n",
       "      <th>2995</th>\n",
       "      <td>6073005600</td>\n",
       "      <td>31.50</td>\n",
       "      <td>96.38</td>\n",
       "      <td>94.14</td>\n",
       "      <td>40.22</td>\n",
       "      <td>95.01</td>\n",
       "      <td>82.83</td>\n",
       "      <td>91.26</td>\n",
       "    </tr>\n",
       "    <tr>\n",
       "      <th>3142</th>\n",
       "      <td>6073005400</td>\n",
       "      <td>30.45</td>\n",
       "      <td>99.33</td>\n",
       "      <td>99.47</td>\n",
       "      <td>42.02</td>\n",
       "      <td>95.38</td>\n",
       "      <td>69.23</td>\n",
       "      <td>80.57</td>\n",
       "    </tr>\n",
       "    <tr>\n",
       "      <th>3313</th>\n",
       "      <td>6073005900</td>\n",
       "      <td>29.29</td>\n",
       "      <td>98.01</td>\n",
       "      <td>90.81</td>\n",
       "      <td>39.76</td>\n",
       "      <td>94.22</td>\n",
       "      <td>0.00</td>\n",
       "      <td>73.58</td>\n",
       "    </tr>\n",
       "    <tr>\n",
       "      <th>3527</th>\n",
       "      <td>6073002401</td>\n",
       "      <td>27.81</td>\n",
       "      <td>73.83</td>\n",
       "      <td>0.00</td>\n",
       "      <td>37.15</td>\n",
       "      <td>0.00</td>\n",
       "      <td>22.64</td>\n",
       "      <td>25.25</td>\n",
       "    </tr>\n",
       "    <tr>\n",
       "      <th>4073</th>\n",
       "      <td>6073001600</td>\n",
       "      <td>24.39</td>\n",
       "      <td>73.86</td>\n",
       "      <td>0.00</td>\n",
       "      <td>36.34</td>\n",
       "      <td>0.00</td>\n",
       "      <td>0.00</td>\n",
       "      <td>14.28</td>\n",
       "    </tr>\n",
       "    <tr>\n",
       "      <th>4387</th>\n",
       "      <td>6073000900</td>\n",
       "      <td>22.79</td>\n",
       "      <td>74.76</td>\n",
       "      <td>72.43</td>\n",
       "      <td>36.01</td>\n",
       "      <td>43.11</td>\n",
       "      <td>1.34</td>\n",
       "      <td>25.87</td>\n",
       "    </tr>\n",
       "    <tr>\n",
       "      <th>4734</th>\n",
       "      <td>6073000800</td>\n",
       "      <td>20.81</td>\n",
       "      <td>74.76</td>\n",
       "      <td>32.03</td>\n",
       "      <td>37.45</td>\n",
       "      <td>43.11</td>\n",
       "      <td>68.45</td>\n",
       "      <td>42.20</td>\n",
       "    </tr>\n",
       "    <tr>\n",
       "      <th>4758</th>\n",
       "      <td>6073001500</td>\n",
       "      <td>20.66</td>\n",
       "      <td>73.99</td>\n",
       "      <td>0.00</td>\n",
       "      <td>38.19</td>\n",
       "      <td>0.00</td>\n",
       "      <td>36.81</td>\n",
       "      <td>24.44</td>\n",
       "    </tr>\n",
       "    <tr>\n",
       "      <th>4962</th>\n",
       "      <td>6073004200</td>\n",
       "      <td>19.65</td>\n",
       "      <td>80.45</td>\n",
       "      <td>41.10</td>\n",
       "      <td>41.00</td>\n",
       "      <td>65.56</td>\n",
       "      <td>57.18</td>\n",
       "      <td>58.05</td>\n",
       "    </tr>\n",
       "    <tr>\n",
       "      <th>5054</th>\n",
       "      <td>6073001300</td>\n",
       "      <td>19.16</td>\n",
       "      <td>74.76</td>\n",
       "      <td>55.16</td>\n",
       "      <td>36.24</td>\n",
       "      <td>25.76</td>\n",
       "      <td>0.00</td>\n",
       "      <td>15.38</td>\n",
       "    </tr>\n",
       "    <tr>\n",
       "      <th>5624</th>\n",
       "      <td>6073001400</td>\n",
       "      <td>16.51</td>\n",
       "      <td>74.76</td>\n",
       "      <td>26.91</td>\n",
       "      <td>37.68</td>\n",
       "      <td>25.76</td>\n",
       "      <td>62.16</td>\n",
       "      <td>32.03</td>\n",
       "    </tr>\n",
       "    <tr>\n",
       "      <th>6154</th>\n",
       "      <td>6073004300</td>\n",
       "      <td>13.99</td>\n",
       "      <td>74.51</td>\n",
       "      <td>5.91</td>\n",
       "      <td>39.95</td>\n",
       "      <td>0.00</td>\n",
       "      <td>62.70</td>\n",
       "      <td>25.81</td>\n",
       "    </tr>\n",
       "  </tbody>\n",
       "</table>\n",
       "</div>"
      ],
      "text/plain": [
       "      Census Tract  CES 3.0 Score  Diesel PM Pctl  Groundwater Threats Pctl  \\\n",
       "46      6073005000          70.91           99.65                     96.79   \n",
       "78      6073004900          68.27           99.65                     96.24   \n",
       "83      6073003902          67.79           97.08                     80.80   \n",
       "102     6073003601          66.76           94.52                     94.36   \n",
       "304     6073003901          59.42           97.98                     74.91   \n",
       "334     6073005100          58.65           99.65                     99.55   \n",
       "772     6073003603          51.41           97.24                     90.75   \n",
       "908     6073003502          49.67           87.28                     39.42   \n",
       "1100    6073003602          47.45           90.64                     41.10   \n",
       "1173    6073003501          46.82           87.28                     28.72   \n",
       "1222    6073005300          46.24           99.65                     98.63   \n",
       "1228    6073005700          46.21           99.65                     88.51   \n",
       "1252    6073003301          45.97           87.28                     56.62   \n",
       "1875    6073003305          40.17           87.21                     55.16   \n",
       "1930    6073005200          39.76           99.65                     98.73   \n",
       "1942    6073003303          39.66           90.75                      5.91   \n",
       "2912    6073005800          32.12           99.09                     98.46   \n",
       "2995    6073005600          31.50           96.38                     94.14   \n",
       "3142    6073005400          30.45           99.33                     99.47   \n",
       "3313    6073005900          29.29           98.01                     90.81   \n",
       "3527    6073002401          27.81           73.83                      0.00   \n",
       "4073    6073001600          24.39           73.86                      0.00   \n",
       "4387    6073000900          22.79           74.76                     72.43   \n",
       "4734    6073000800          20.81           74.76                     32.03   \n",
       "4758    6073001500          20.66           73.99                      0.00   \n",
       "4962    6073004200          19.65           80.45                     41.10   \n",
       "5054    6073001300          19.16           74.76                     55.16   \n",
       "5624    6073001400          16.51           74.76                     26.91   \n",
       "6154    6073004300          13.99           74.51                      5.91   \n",
       "\n",
       "      Tox. Release Pctl  Haz. Waste Pctl  Solid Waste Pctl  \\\n",
       "46                61.84            97.37             93.61   \n",
       "78                53.75            95.92             92.38   \n",
       "83                78.14            98.37             96.39   \n",
       "102               58.76            95.27             84.51   \n",
       "304               56.14            82.35             84.77   \n",
       "334               44.49            95.48             73.54   \n",
       "772               55.70            46.52             73.54   \n",
       "908               50.09            90.70             52.84   \n",
       "1100              51.98            51.14             57.18   \n",
       "1173              46.20            60.50             36.52   \n",
       "1222              41.49            96.18             50.44   \n",
       "1228              40.93            91.07              0.00   \n",
       "1252              44.08            43.11              0.00   \n",
       "1875              43.53            15.68              0.00   \n",
       "1930              41.92            92.66             74.61   \n",
       "1942              48.65            15.68              0.00   \n",
       "2912              41.43            98.24              0.00   \n",
       "2995              40.22            95.01             82.83   \n",
       "3142              42.02            95.38             69.23   \n",
       "3313              39.76            94.22              0.00   \n",
       "3527              37.15             0.00             22.64   \n",
       "4073              36.34             0.00              0.00   \n",
       "4387              36.01            43.11              1.34   \n",
       "4734              37.45            43.11             68.45   \n",
       "4758              38.19             0.00             36.81   \n",
       "4962              41.00            65.56             57.18   \n",
       "5054              36.24            25.76              0.00   \n",
       "5624              37.68            25.76             62.16   \n",
       "6154              39.95             0.00             62.70   \n",
       "\n",
       "      Pollution Burden Pctl  \n",
       "46                    95.82  \n",
       "78                    94.20  \n",
       "83                    94.50  \n",
       "102                   92.50  \n",
       "304                   81.28  \n",
       "334                   91.28  \n",
       "772                   82.04  \n",
       "908                   69.65  \n",
       "1100                  54.13  \n",
       "1173                  62.94  \n",
       "1222                  78.87  \n",
       "1228                  74.69  \n",
       "1252                  62.28  \n",
       "1875                  50.11  \n",
       "1930                  87.84  \n",
       "1942                  40.27  \n",
       "2912                  81.49  \n",
       "2995                  91.26  \n",
       "3142                  80.57  \n",
       "3313                  73.58  \n",
       "3527                  25.25  \n",
       "4073                  14.28  \n",
       "4387                  25.87  \n",
       "4734                  42.20  \n",
       "4758                  24.44  \n",
       "4962                  58.05  \n",
       "5054                  15.38  \n",
       "5624                  32.03  \n",
       "6154                  25.81  "
      ]
     },
     "execution_count": 4,
     "metadata": {},
     "output_type": "execute_result"
    }
   ],
   "source": [
    "new_data"
   ]
  },
  {
   "cell_type": "code",
   "execution_count": 5,
   "metadata": {},
   "outputs": [],
   "source": [
    "# Get last 4 digits of tract number\n",
    "def shrink_tract(tract):\n",
    "    tract = tract % 10000\n",
    "    return tract"
   ]
  },
  {
   "cell_type": "code",
   "execution_count": 6,
   "metadata": {},
   "outputs": [
    {
     "data": {
      "text/html": [
       "<div>\n",
       "<style scoped>\n",
       "    .dataframe tbody tr th:only-of-type {\n",
       "        vertical-align: middle;\n",
       "    }\n",
       "\n",
       "    .dataframe tbody tr th {\n",
       "        vertical-align: top;\n",
       "    }\n",
       "\n",
       "    .dataframe thead th {\n",
       "        text-align: right;\n",
       "    }\n",
       "</style>\n",
       "<table border=\"1\" class=\"dataframe\">\n",
       "  <thead>\n",
       "    <tr style=\"text-align: right;\">\n",
       "      <th></th>\n",
       "      <th>Census Tract</th>\n",
       "      <th>CES 2.0 Score</th>\n",
       "      <th>CES 3.0 Score</th>\n",
       "      <th>Diesel PM Pctl_old</th>\n",
       "      <th>Diesel PM Pctl_new</th>\n",
       "      <th>Groundwater Threats Pctl_old</th>\n",
       "      <th>Groundwater Threats Pctl_new</th>\n",
       "      <th>Tox. Release Pctl_old</th>\n",
       "      <th>Tox. Release Pctl_new</th>\n",
       "      <th>Haz. Waste Pctl_old</th>\n",
       "      <th>Haz. Waste Pctl_new</th>\n",
       "      <th>Solid Waste Pctl_old</th>\n",
       "      <th>Solid Waste Pctl_new</th>\n",
       "      <th>Pollution Burden Pctl_old</th>\n",
       "      <th>Pollution Burden Pctl_new</th>\n",
       "    </tr>\n",
       "  </thead>\n",
       "  <tbody>\n",
       "    <tr>\n",
       "      <th>0</th>\n",
       "      <td>5000</td>\n",
       "      <td>59.91</td>\n",
       "      <td>70.91</td>\n",
       "      <td>85.01</td>\n",
       "      <td>99.65</td>\n",
       "      <td>95.47</td>\n",
       "      <td>96.79</td>\n",
       "      <td>81.65</td>\n",
       "      <td>61.84</td>\n",
       "      <td>97.59</td>\n",
       "      <td>97.37</td>\n",
       "      <td>75.96</td>\n",
       "      <td>93.61</td>\n",
       "      <td>91.92</td>\n",
       "      <td>95.82</td>\n",
       "    </tr>\n",
       "    <tr>\n",
       "      <th>1</th>\n",
       "      <td>4900</td>\n",
       "      <td>54.23</td>\n",
       "      <td>68.27</td>\n",
       "      <td>91.27</td>\n",
       "      <td>99.65</td>\n",
       "      <td>93.77</td>\n",
       "      <td>96.24</td>\n",
       "      <td>55.00</td>\n",
       "      <td>53.75</td>\n",
       "      <td>91.51</td>\n",
       "      <td>95.92</td>\n",
       "      <td>72.08</td>\n",
       "      <td>92.38</td>\n",
       "      <td>86.06</td>\n",
       "      <td>94.20</td>\n",
       "    </tr>\n",
       "    <tr>\n",
       "      <th>2</th>\n",
       "      <td>3902</td>\n",
       "      <td>52.48</td>\n",
       "      <td>67.79</td>\n",
       "      <td>85.39</td>\n",
       "      <td>97.08</td>\n",
       "      <td>76.98</td>\n",
       "      <td>80.80</td>\n",
       "      <td>57.58</td>\n",
       "      <td>78.14</td>\n",
       "      <td>95.96</td>\n",
       "      <td>98.37</td>\n",
       "      <td>0.00</td>\n",
       "      <td>96.39</td>\n",
       "      <td>76.91</td>\n",
       "      <td>94.50</td>\n",
       "    </tr>\n",
       "    <tr>\n",
       "      <th>3</th>\n",
       "      <td>3601</td>\n",
       "      <td>55.61</td>\n",
       "      <td>66.76</td>\n",
       "      <td>77.77</td>\n",
       "      <td>94.52</td>\n",
       "      <td>88.42</td>\n",
       "      <td>94.36</td>\n",
       "      <td>59.95</td>\n",
       "      <td>58.76</td>\n",
       "      <td>87.18</td>\n",
       "      <td>95.27</td>\n",
       "      <td>81.49</td>\n",
       "      <td>84.51</td>\n",
       "      <td>84.64</td>\n",
       "      <td>92.50</td>\n",
       "    </tr>\n",
       "    <tr>\n",
       "      <th>4</th>\n",
       "      <td>3901</td>\n",
       "      <td>47.82</td>\n",
       "      <td>59.42</td>\n",
       "      <td>85.46</td>\n",
       "      <td>97.98</td>\n",
       "      <td>70.84</td>\n",
       "      <td>74.91</td>\n",
       "      <td>49.32</td>\n",
       "      <td>56.14</td>\n",
       "      <td>75.63</td>\n",
       "      <td>82.35</td>\n",
       "      <td>23.19</td>\n",
       "      <td>84.77</td>\n",
       "      <td>65.03</td>\n",
       "      <td>81.28</td>\n",
       "    </tr>\n",
       "    <tr>\n",
       "      <th>5</th>\n",
       "      <td>5100</td>\n",
       "      <td>47.81</td>\n",
       "      <td>58.65</td>\n",
       "      <td>91.27</td>\n",
       "      <td>99.65</td>\n",
       "      <td>99.18</td>\n",
       "      <td>99.55</td>\n",
       "      <td>44.32</td>\n",
       "      <td>44.49</td>\n",
       "      <td>89.96</td>\n",
       "      <td>95.48</td>\n",
       "      <td>71.76</td>\n",
       "      <td>73.54</td>\n",
       "      <td>82.27</td>\n",
       "      <td>91.28</td>\n",
       "    </tr>\n",
       "    <tr>\n",
       "      <th>6</th>\n",
       "      <td>3603</td>\n",
       "      <td>46.57</td>\n",
       "      <td>51.41</td>\n",
       "      <td>75.40</td>\n",
       "      <td>97.24</td>\n",
       "      <td>84.60</td>\n",
       "      <td>90.75</td>\n",
       "      <td>58.28</td>\n",
       "      <td>55.70</td>\n",
       "      <td>50.42</td>\n",
       "      <td>46.52</td>\n",
       "      <td>81.49</td>\n",
       "      <td>73.54</td>\n",
       "      <td>73.43</td>\n",
       "      <td>82.04</td>\n",
       "    </tr>\n",
       "    <tr>\n",
       "      <th>7</th>\n",
       "      <td>3502</td>\n",
       "      <td>43.21</td>\n",
       "      <td>49.67</td>\n",
       "      <td>79.77</td>\n",
       "      <td>87.28</td>\n",
       "      <td>24.08</td>\n",
       "      <td>39.42</td>\n",
       "      <td>53.22</td>\n",
       "      <td>50.09</td>\n",
       "      <td>78.60</td>\n",
       "      <td>90.70</td>\n",
       "      <td>23.19</td>\n",
       "      <td>52.84</td>\n",
       "      <td>59.85</td>\n",
       "      <td>69.65</td>\n",
       "    </tr>\n",
       "    <tr>\n",
       "      <th>8</th>\n",
       "      <td>3602</td>\n",
       "      <td>41.74</td>\n",
       "      <td>47.45</td>\n",
       "      <td>79.17</td>\n",
       "      <td>90.64</td>\n",
       "      <td>41.29</td>\n",
       "      <td>41.10</td>\n",
       "      <td>55.79</td>\n",
       "      <td>51.98</td>\n",
       "      <td>50.42</td>\n",
       "      <td>51.14</td>\n",
       "      <td>63.94</td>\n",
       "      <td>57.18</td>\n",
       "      <td>49.16</td>\n",
       "      <td>54.13</td>\n",
       "    </tr>\n",
       "    <tr>\n",
       "      <th>9</th>\n",
       "      <td>3501</td>\n",
       "      <td>37.81</td>\n",
       "      <td>46.82</td>\n",
       "      <td>79.75</td>\n",
       "      <td>87.28</td>\n",
       "      <td>26.33</td>\n",
       "      <td>28.72</td>\n",
       "      <td>44.40</td>\n",
       "      <td>46.20</td>\n",
       "      <td>76.39</td>\n",
       "      <td>60.50</td>\n",
       "      <td>0.00</td>\n",
       "      <td>36.52</td>\n",
       "      <td>56.79</td>\n",
       "      <td>62.94</td>\n",
       "    </tr>\n",
       "    <tr>\n",
       "      <th>10</th>\n",
       "      <td>5300</td>\n",
       "      <td>27.58</td>\n",
       "      <td>46.24</td>\n",
       "      <td>91.27</td>\n",
       "      <td>99.65</td>\n",
       "      <td>98.93</td>\n",
       "      <td>98.63</td>\n",
       "      <td>38.29</td>\n",
       "      <td>41.49</td>\n",
       "      <td>94.57</td>\n",
       "      <td>96.18</td>\n",
       "      <td>23.19</td>\n",
       "      <td>50.44</td>\n",
       "      <td>63.06</td>\n",
       "      <td>78.87</td>\n",
       "    </tr>\n",
       "    <tr>\n",
       "      <th>11</th>\n",
       "      <td>5700</td>\n",
       "      <td>36.17</td>\n",
       "      <td>46.21</td>\n",
       "      <td>91.27</td>\n",
       "      <td>99.65</td>\n",
       "      <td>85.31</td>\n",
       "      <td>88.51</td>\n",
       "      <td>34.16</td>\n",
       "      <td>40.93</td>\n",
       "      <td>83.31</td>\n",
       "      <td>91.07</td>\n",
       "      <td>0.00</td>\n",
       "      <td>0.00</td>\n",
       "      <td>63.75</td>\n",
       "      <td>74.69</td>\n",
       "    </tr>\n",
       "    <tr>\n",
       "      <th>12</th>\n",
       "      <td>3301</td>\n",
       "      <td>37.22</td>\n",
       "      <td>45.97</td>\n",
       "      <td>79.82</td>\n",
       "      <td>87.28</td>\n",
       "      <td>58.79</td>\n",
       "      <td>56.62</td>\n",
       "      <td>43.16</td>\n",
       "      <td>44.08</td>\n",
       "      <td>0.00</td>\n",
       "      <td>43.11</td>\n",
       "      <td>0.00</td>\n",
       "      <td>0.00</td>\n",
       "      <td>50.37</td>\n",
       "      <td>62.28</td>\n",
       "    </tr>\n",
       "    <tr>\n",
       "      <th>13</th>\n",
       "      <td>3305</td>\n",
       "      <td>42.13</td>\n",
       "      <td>40.17</td>\n",
       "      <td>79.87</td>\n",
       "      <td>87.21</td>\n",
       "      <td>61.69</td>\n",
       "      <td>55.16</td>\n",
       "      <td>38.58</td>\n",
       "      <td>43.53</td>\n",
       "      <td>0.00</td>\n",
       "      <td>15.68</td>\n",
       "      <td>0.00</td>\n",
       "      <td>0.00</td>\n",
       "      <td>45.39</td>\n",
       "      <td>50.11</td>\n",
       "    </tr>\n",
       "    <tr>\n",
       "      <th>14</th>\n",
       "      <td>5200</td>\n",
       "      <td>29.02</td>\n",
       "      <td>39.76</td>\n",
       "      <td>91.27</td>\n",
       "      <td>99.65</td>\n",
       "      <td>98.64</td>\n",
       "      <td>98.73</td>\n",
       "      <td>40.87</td>\n",
       "      <td>41.92</td>\n",
       "      <td>92.96</td>\n",
       "      <td>92.66</td>\n",
       "      <td>27.51</td>\n",
       "      <td>74.61</td>\n",
       "      <td>84.02</td>\n",
       "      <td>87.84</td>\n",
       "    </tr>\n",
       "    <tr>\n",
       "      <th>15</th>\n",
       "      <td>3303</td>\n",
       "      <td>38.70</td>\n",
       "      <td>39.66</td>\n",
       "      <td>78.86</td>\n",
       "      <td>90.75</td>\n",
       "      <td>5.27</td>\n",
       "      <td>5.91</td>\n",
       "      <td>50.84</td>\n",
       "      <td>48.65</td>\n",
       "      <td>0.00</td>\n",
       "      <td>15.68</td>\n",
       "      <td>0.00</td>\n",
       "      <td>0.00</td>\n",
       "      <td>37.90</td>\n",
       "      <td>40.27</td>\n",
       "    </tr>\n",
       "    <tr>\n",
       "      <th>16</th>\n",
       "      <td>5800</td>\n",
       "      <td>20.19</td>\n",
       "      <td>32.12</td>\n",
       "      <td>76.83</td>\n",
       "      <td>99.09</td>\n",
       "      <td>97.19</td>\n",
       "      <td>98.46</td>\n",
       "      <td>35.05</td>\n",
       "      <td>41.43</td>\n",
       "      <td>90.14</td>\n",
       "      <td>98.24</td>\n",
       "      <td>0.00</td>\n",
       "      <td>0.00</td>\n",
       "      <td>64.72</td>\n",
       "      <td>81.49</td>\n",
       "    </tr>\n",
       "    <tr>\n",
       "      <th>17</th>\n",
       "      <td>5600</td>\n",
       "      <td>24.24</td>\n",
       "      <td>31.50</td>\n",
       "      <td>87.36</td>\n",
       "      <td>96.38</td>\n",
       "      <td>93.56</td>\n",
       "      <td>94.14</td>\n",
       "      <td>32.24</td>\n",
       "      <td>40.22</td>\n",
       "      <td>93.74</td>\n",
       "      <td>95.01</td>\n",
       "      <td>37.88</td>\n",
       "      <td>82.83</td>\n",
       "      <td>86.72</td>\n",
       "      <td>91.26</td>\n",
       "    </tr>\n",
       "    <tr>\n",
       "      <th>18</th>\n",
       "      <td>5400</td>\n",
       "      <td>18.93</td>\n",
       "      <td>30.45</td>\n",
       "      <td>85.39</td>\n",
       "      <td>99.33</td>\n",
       "      <td>99.32</td>\n",
       "      <td>99.47</td>\n",
       "      <td>38.20</td>\n",
       "      <td>42.02</td>\n",
       "      <td>88.51</td>\n",
       "      <td>95.38</td>\n",
       "      <td>58.45</td>\n",
       "      <td>69.23</td>\n",
       "      <td>62.41</td>\n",
       "      <td>80.57</td>\n",
       "    </tr>\n",
       "    <tr>\n",
       "      <th>19</th>\n",
       "      <td>5900</td>\n",
       "      <td>18.81</td>\n",
       "      <td>29.29</td>\n",
       "      <td>87.89</td>\n",
       "      <td>98.01</td>\n",
       "      <td>87.65</td>\n",
       "      <td>90.81</td>\n",
       "      <td>29.99</td>\n",
       "      <td>39.76</td>\n",
       "      <td>70.21</td>\n",
       "      <td>94.22</td>\n",
       "      <td>0.00</td>\n",
       "      <td>0.00</td>\n",
       "      <td>56.83</td>\n",
       "      <td>73.58</td>\n",
       "    </tr>\n",
       "    <tr>\n",
       "      <th>20</th>\n",
       "      <td>2401</td>\n",
       "      <td>29.00</td>\n",
       "      <td>27.81</td>\n",
       "      <td>75.53</td>\n",
       "      <td>73.83</td>\n",
       "      <td>10.03</td>\n",
       "      <td>0.00</td>\n",
       "      <td>25.58</td>\n",
       "      <td>37.15</td>\n",
       "      <td>14.29</td>\n",
       "      <td>0.00</td>\n",
       "      <td>25.86</td>\n",
       "      <td>22.64</td>\n",
       "      <td>34.18</td>\n",
       "      <td>25.25</td>\n",
       "    </tr>\n",
       "    <tr>\n",
       "      <th>21</th>\n",
       "      <td>1600</td>\n",
       "      <td>23.26</td>\n",
       "      <td>24.39</td>\n",
       "      <td>76.35</td>\n",
       "      <td>73.86</td>\n",
       "      <td>16.58</td>\n",
       "      <td>0.00</td>\n",
       "      <td>25.04</td>\n",
       "      <td>36.34</td>\n",
       "      <td>39.19</td>\n",
       "      <td>0.00</td>\n",
       "      <td>0.00</td>\n",
       "      <td>0.00</td>\n",
       "      <td>28.94</td>\n",
       "      <td>14.28</td>\n",
       "    </tr>\n",
       "    <tr>\n",
       "      <th>22</th>\n",
       "      <td>900</td>\n",
       "      <td>18.38</td>\n",
       "      <td>22.79</td>\n",
       "      <td>84.10</td>\n",
       "      <td>74.76</td>\n",
       "      <td>32.31</td>\n",
       "      <td>72.43</td>\n",
       "      <td>25.17</td>\n",
       "      <td>36.01</td>\n",
       "      <td>0.00</td>\n",
       "      <td>43.11</td>\n",
       "      <td>0.00</td>\n",
       "      <td>1.34</td>\n",
       "      <td>23.05</td>\n",
       "      <td>25.87</td>\n",
       "    </tr>\n",
       "    <tr>\n",
       "      <th>23</th>\n",
       "      <td>800</td>\n",
       "      <td>17.22</td>\n",
       "      <td>20.81</td>\n",
       "      <td>84.03</td>\n",
       "      <td>74.76</td>\n",
       "      <td>44.02</td>\n",
       "      <td>32.03</td>\n",
       "      <td>25.83</td>\n",
       "      <td>37.45</td>\n",
       "      <td>0.00</td>\n",
       "      <td>43.11</td>\n",
       "      <td>37.88</td>\n",
       "      <td>68.45</td>\n",
       "      <td>36.40</td>\n",
       "      <td>42.20</td>\n",
       "    </tr>\n",
       "    <tr>\n",
       "      <th>24</th>\n",
       "      <td>1500</td>\n",
       "      <td>16.26</td>\n",
       "      <td>20.66</td>\n",
       "      <td>77.46</td>\n",
       "      <td>73.99</td>\n",
       "      <td>10.03</td>\n",
       "      <td>0.00</td>\n",
       "      <td>26.61</td>\n",
       "      <td>38.19</td>\n",
       "      <td>7.50</td>\n",
       "      <td>0.00</td>\n",
       "      <td>27.51</td>\n",
       "      <td>36.81</td>\n",
       "      <td>32.00</td>\n",
       "      <td>24.44</td>\n",
       "    </tr>\n",
       "    <tr>\n",
       "      <th>25</th>\n",
       "      <td>4200</td>\n",
       "      <td>21.37</td>\n",
       "      <td>19.65</td>\n",
       "      <td>77.42</td>\n",
       "      <td>80.45</td>\n",
       "      <td>40.98</td>\n",
       "      <td>41.10</td>\n",
       "      <td>32.64</td>\n",
       "      <td>41.00</td>\n",
       "      <td>67.80</td>\n",
       "      <td>65.56</td>\n",
       "      <td>63.94</td>\n",
       "      <td>57.18</td>\n",
       "      <td>55.62</td>\n",
       "      <td>58.05</td>\n",
       "    </tr>\n",
       "    <tr>\n",
       "      <th>26</th>\n",
       "      <td>1300</td>\n",
       "      <td>19.30</td>\n",
       "      <td>19.16</td>\n",
       "      <td>84.10</td>\n",
       "      <td>74.76</td>\n",
       "      <td>10.93</td>\n",
       "      <td>55.16</td>\n",
       "      <td>25.08</td>\n",
       "      <td>36.24</td>\n",
       "      <td>7.50</td>\n",
       "      <td>25.76</td>\n",
       "      <td>0.00</td>\n",
       "      <td>0.00</td>\n",
       "      <td>17.45</td>\n",
       "      <td>15.38</td>\n",
       "    </tr>\n",
       "    <tr>\n",
       "      <th>27</th>\n",
       "      <td>1400</td>\n",
       "      <td>9.25</td>\n",
       "      <td>16.51</td>\n",
       "      <td>84.10</td>\n",
       "      <td>74.76</td>\n",
       "      <td>2.46</td>\n",
       "      <td>26.91</td>\n",
       "      <td>26.11</td>\n",
       "      <td>37.68</td>\n",
       "      <td>0.00</td>\n",
       "      <td>25.76</td>\n",
       "      <td>37.88</td>\n",
       "      <td>62.16</td>\n",
       "      <td>25.31</td>\n",
       "      <td>32.03</td>\n",
       "    </tr>\n",
       "    <tr>\n",
       "      <th>28</th>\n",
       "      <td>4300</td>\n",
       "      <td>8.82</td>\n",
       "      <td>13.99</td>\n",
       "      <td>82.82</td>\n",
       "      <td>74.51</td>\n",
       "      <td>2.34</td>\n",
       "      <td>5.91</td>\n",
       "      <td>29.98</td>\n",
       "      <td>39.95</td>\n",
       "      <td>0.00</td>\n",
       "      <td>0.00</td>\n",
       "      <td>39.29</td>\n",
       "      <td>62.70</td>\n",
       "      <td>20.25</td>\n",
       "      <td>25.81</td>\n",
       "    </tr>\n",
       "  </tbody>\n",
       "</table>\n",
       "</div>"
      ],
      "text/plain": [
       "    Census Tract  CES 2.0 Score  CES 3.0 Score  Diesel PM Pctl_old  \\\n",
       "0           5000          59.91          70.91               85.01   \n",
       "1           4900          54.23          68.27               91.27   \n",
       "2           3902          52.48          67.79               85.39   \n",
       "3           3601          55.61          66.76               77.77   \n",
       "4           3901          47.82          59.42               85.46   \n",
       "5           5100          47.81          58.65               91.27   \n",
       "6           3603          46.57          51.41               75.40   \n",
       "7           3502          43.21          49.67               79.77   \n",
       "8           3602          41.74          47.45               79.17   \n",
       "9           3501          37.81          46.82               79.75   \n",
       "10          5300          27.58          46.24               91.27   \n",
       "11          5700          36.17          46.21               91.27   \n",
       "12          3301          37.22          45.97               79.82   \n",
       "13          3305          42.13          40.17               79.87   \n",
       "14          5200          29.02          39.76               91.27   \n",
       "15          3303          38.70          39.66               78.86   \n",
       "16          5800          20.19          32.12               76.83   \n",
       "17          5600          24.24          31.50               87.36   \n",
       "18          5400          18.93          30.45               85.39   \n",
       "19          5900          18.81          29.29               87.89   \n",
       "20          2401          29.00          27.81               75.53   \n",
       "21          1600          23.26          24.39               76.35   \n",
       "22           900          18.38          22.79               84.10   \n",
       "23           800          17.22          20.81               84.03   \n",
       "24          1500          16.26          20.66               77.46   \n",
       "25          4200          21.37          19.65               77.42   \n",
       "26          1300          19.30          19.16               84.10   \n",
       "27          1400           9.25          16.51               84.10   \n",
       "28          4300           8.82          13.99               82.82   \n",
       "\n",
       "    Diesel PM Pctl_new  Groundwater Threats Pctl_old  \\\n",
       "0                99.65                         95.47   \n",
       "1                99.65                         93.77   \n",
       "2                97.08                         76.98   \n",
       "3                94.52                         88.42   \n",
       "4                97.98                         70.84   \n",
       "5                99.65                         99.18   \n",
       "6                97.24                         84.60   \n",
       "7                87.28                         24.08   \n",
       "8                90.64                         41.29   \n",
       "9                87.28                         26.33   \n",
       "10               99.65                         98.93   \n",
       "11               99.65                         85.31   \n",
       "12               87.28                         58.79   \n",
       "13               87.21                         61.69   \n",
       "14               99.65                         98.64   \n",
       "15               90.75                          5.27   \n",
       "16               99.09                         97.19   \n",
       "17               96.38                         93.56   \n",
       "18               99.33                         99.32   \n",
       "19               98.01                         87.65   \n",
       "20               73.83                         10.03   \n",
       "21               73.86                         16.58   \n",
       "22               74.76                         32.31   \n",
       "23               74.76                         44.02   \n",
       "24               73.99                         10.03   \n",
       "25               80.45                         40.98   \n",
       "26               74.76                         10.93   \n",
       "27               74.76                          2.46   \n",
       "28               74.51                          2.34   \n",
       "\n",
       "    Groundwater Threats Pctl_new  Tox. Release Pctl_old  \\\n",
       "0                          96.79                  81.65   \n",
       "1                          96.24                  55.00   \n",
       "2                          80.80                  57.58   \n",
       "3                          94.36                  59.95   \n",
       "4                          74.91                  49.32   \n",
       "5                          99.55                  44.32   \n",
       "6                          90.75                  58.28   \n",
       "7                          39.42                  53.22   \n",
       "8                          41.10                  55.79   \n",
       "9                          28.72                  44.40   \n",
       "10                         98.63                  38.29   \n",
       "11                         88.51                  34.16   \n",
       "12                         56.62                  43.16   \n",
       "13                         55.16                  38.58   \n",
       "14                         98.73                  40.87   \n",
       "15                          5.91                  50.84   \n",
       "16                         98.46                  35.05   \n",
       "17                         94.14                  32.24   \n",
       "18                         99.47                  38.20   \n",
       "19                         90.81                  29.99   \n",
       "20                          0.00                  25.58   \n",
       "21                          0.00                  25.04   \n",
       "22                         72.43                  25.17   \n",
       "23                         32.03                  25.83   \n",
       "24                          0.00                  26.61   \n",
       "25                         41.10                  32.64   \n",
       "26                         55.16                  25.08   \n",
       "27                         26.91                  26.11   \n",
       "28                          5.91                  29.98   \n",
       "\n",
       "    Tox. Release Pctl_new  Haz. Waste Pctl_old  Haz. Waste Pctl_new  \\\n",
       "0                   61.84                97.59                97.37   \n",
       "1                   53.75                91.51                95.92   \n",
       "2                   78.14                95.96                98.37   \n",
       "3                   58.76                87.18                95.27   \n",
       "4                   56.14                75.63                82.35   \n",
       "5                   44.49                89.96                95.48   \n",
       "6                   55.70                50.42                46.52   \n",
       "7                   50.09                78.60                90.70   \n",
       "8                   51.98                50.42                51.14   \n",
       "9                   46.20                76.39                60.50   \n",
       "10                  41.49                94.57                96.18   \n",
       "11                  40.93                83.31                91.07   \n",
       "12                  44.08                 0.00                43.11   \n",
       "13                  43.53                 0.00                15.68   \n",
       "14                  41.92                92.96                92.66   \n",
       "15                  48.65                 0.00                15.68   \n",
       "16                  41.43                90.14                98.24   \n",
       "17                  40.22                93.74                95.01   \n",
       "18                  42.02                88.51                95.38   \n",
       "19                  39.76                70.21                94.22   \n",
       "20                  37.15                14.29                 0.00   \n",
       "21                  36.34                39.19                 0.00   \n",
       "22                  36.01                 0.00                43.11   \n",
       "23                  37.45                 0.00                43.11   \n",
       "24                  38.19                 7.50                 0.00   \n",
       "25                  41.00                67.80                65.56   \n",
       "26                  36.24                 7.50                25.76   \n",
       "27                  37.68                 0.00                25.76   \n",
       "28                  39.95                 0.00                 0.00   \n",
       "\n",
       "    Solid Waste Pctl_old  Solid Waste Pctl_new  Pollution Burden Pctl_old  \\\n",
       "0                  75.96                 93.61                      91.92   \n",
       "1                  72.08                 92.38                      86.06   \n",
       "2                   0.00                 96.39                      76.91   \n",
       "3                  81.49                 84.51                      84.64   \n",
       "4                  23.19                 84.77                      65.03   \n",
       "5                  71.76                 73.54                      82.27   \n",
       "6                  81.49                 73.54                      73.43   \n",
       "7                  23.19                 52.84                      59.85   \n",
       "8                  63.94                 57.18                      49.16   \n",
       "9                   0.00                 36.52                      56.79   \n",
       "10                 23.19                 50.44                      63.06   \n",
       "11                  0.00                  0.00                      63.75   \n",
       "12                  0.00                  0.00                      50.37   \n",
       "13                  0.00                  0.00                      45.39   \n",
       "14                 27.51                 74.61                      84.02   \n",
       "15                  0.00                  0.00                      37.90   \n",
       "16                  0.00                  0.00                      64.72   \n",
       "17                 37.88                 82.83                      86.72   \n",
       "18                 58.45                 69.23                      62.41   \n",
       "19                  0.00                  0.00                      56.83   \n",
       "20                 25.86                 22.64                      34.18   \n",
       "21                  0.00                  0.00                      28.94   \n",
       "22                  0.00                  1.34                      23.05   \n",
       "23                 37.88                 68.45                      36.40   \n",
       "24                 27.51                 36.81                      32.00   \n",
       "25                 63.94                 57.18                      55.62   \n",
       "26                  0.00                  0.00                      17.45   \n",
       "27                 37.88                 62.16                      25.31   \n",
       "28                 39.29                 62.70                      20.25   \n",
       "\n",
       "    Pollution Burden Pctl_new  \n",
       "0                       95.82  \n",
       "1                       94.20  \n",
       "2                       94.50  \n",
       "3                       92.50  \n",
       "4                       81.28  \n",
       "5                       91.28  \n",
       "6                       82.04  \n",
       "7                       69.65  \n",
       "8                       54.13  \n",
       "9                       62.94  \n",
       "10                      78.87  \n",
       "11                      74.69  \n",
       "12                      62.28  \n",
       "13                      50.11  \n",
       "14                      87.84  \n",
       "15                      40.27  \n",
       "16                      81.49  \n",
       "17                      91.26  \n",
       "18                      80.57  \n",
       "19                      73.58  \n",
       "20                      25.25  \n",
       "21                      14.28  \n",
       "22                      25.87  \n",
       "23                      42.20  \n",
       "24                      24.44  \n",
       "25                      58.05  \n",
       "26                      15.38  \n",
       "27                      32.03  \n",
       "28                      25.81  "
      ]
     },
     "execution_count": 6,
     "metadata": {},
     "output_type": "execute_result"
    }
   ],
   "source": [
    "\n",
    "# Merge new_data with old_data\n",
    "combined_dat = new_data.set_index('Census Tract').join(old_data.set_index('Census Tract'), rsuffix='_old', lsuffix='_new')\n",
    "\n",
    "# Rearrange columns to show old and new data\n",
    "combined_dat = combined_dat[['CES 2.0 Score', 'CES 3.0 Score',\\\n",
    "                            'Diesel PM Pctl_old', 'Diesel PM Pctl_new',\\\n",
    "                            'Groundwater Threats Pctl_old', 'Groundwater Threats Pctl_new', 'Tox. Release Pctl_old',\\\n",
    "                            'Tox. Release Pctl_new', 'Haz. Waste Pctl_old', 'Haz. Waste Pctl_new', 'Solid Waste Pctl_old',\\\n",
    "                            'Solid Waste Pctl_new', 'Pollution Burden Pctl_old', 'Pollution Burden Pctl_new']]\n",
    "\n",
    "# Reset index \n",
    "combined_dat = combined_dat.reset_index()\n",
    "\n",
    "# Apply def\n",
    "combined_dat['Census Tract'] = combined_dat['Census Tract'].apply(shrink_tract)\n",
    "combined_dat"
   ]
  },
  {
   "cell_type": "markdown",
   "metadata": {},
   "source": [
    "# Data Analysis & Results"
   ]
  },
  {
   "cell_type": "markdown",
   "metadata": {},
   "source": [
    "The CES 2.0 (2014) and 3.0 (2017) data are being compared. \n",
    "\n",
    "Data intepreted from the cal-enviro-screen-data-dictionary (https://data.ca.gov/dataset/calenviroscreen-2-0/resource/cb5fe61f-a1af-4e53-83e2-fd3e19d0e707)\n",
    "\n",
    "It appears that most of the distributions resemble either normal or bimodal distributions. It cannot be easily determined whether there is a relationship between variables, however, there are variables such as groundwater threats, hazardous waste, and solid waste that have similar distributions/graphs. For the most part, there did not seem to be outliers. It was also found that there were mostly increases in the variables between CES 2.0 and CES 3.0. "
   ]
  },
  {
   "cell_type": "markdown",
   "metadata": {},
   "source": [
    "The CES score is the CalEnviroScreen Score, Pollution Score multiplied by Population Characteristics Score. It is interpreted that the higher the score, the increase in overall pollution. This shows that there has been an increase in score between CES 2.0 and 3.0. The CES 2.0 score follows more of a Bimodal distribution, whereas CES 3.0 has more of a normal distribution."
   ]
  },
  {
   "cell_type": "code",
   "execution_count": 24,
   "metadata": {},
   "outputs": [
    {
     "name": "stdout",
     "output_type": "stream",
     "text": [
      "CES 3.0 Score is greater than the CES 2.0 Score in (25/29) of the Census Tracts\n"
     ]
    },
    {
     "data": {
      "image/png": "[encoded data removed]",
      "text/plain": [
       "<Figure size 1185.38x360 with 1 Axes>"
      ]
     },
     "metadata": {
      "needs_background": "light"
     },
     "output_type": "display_data"
    }
   ],
   "source": [
    "df = combined_dat[['Census Tract', 'CES 2.0 Score', 'CES 3.0 Score']].copy()\n",
    "df = df.melt('Census Tract', var_name='CES', value_name='Score')\n",
    "g = sns.catplot(x='Census Tract', y='Score', hue='CES',data=df, kind='bar', height=5, aspect=3)\n",
    "\n",
    "\n",
    "print('CES 3.0 Score is greater than the CES 2.0 Score in (' + str(len(combined_dat.loc[combined_dat['CES 2.0 Score'] < combined_dat['CES 3.0 Score']])) + '/29) of the Census Tracts')"
   ]
  },
  {
   "cell_type": "code",
   "execution_count": 8,
   "metadata": {},
   "outputs": [
    {
     "name": "stderr",
     "output_type": "stream",
     "text": [
      "/opt/conda/lib/python3.8/site-packages/seaborn/distributions.py:2557: FutureWarning: `distplot` is a deprecated function and will be removed in a future version. Please adapt your code to use either `displot` (a figure-level function with similar flexibility) or `histplot` (an axes-level function for histograms).\n",
      "  warnings.warn(msg, FutureWarning)\n",
      "/opt/conda/lib/python3.8/site-packages/seaborn/distributions.py:2557: FutureWarning: `distplot` is a deprecated function and will be removed in a future version. Please adapt your code to use either `displot` (a figure-level function with similar flexibility) or `histplot` (an axes-level function for histograms).\n",
      "  warnings.warn(msg, FutureWarning)\n"
     ]
    },
    {
     "data": {
      "text/plain": [
       "[Text(0, 0.5, 'Frequency')]"
      ]
     },
     "execution_count": 8,
     "metadata": {},
     "output_type": "execute_result"
    },
    {
     "data": {
      "image/png": "[encoded data removed]",
      "text/plain": [
       "<Figure size 432x288 with 1 Axes>"
      ]
     },
     "metadata": {
      "needs_background": "light"
     },
     "output_type": "display_data"
    }
   ],
   "source": [
    "ax = sns.distplot(combined_dat['CES 2.0 Score'], color='skyblue', label='CES 2.0 Score')\n",
    "sns.distplot(combined_dat['CES 3.0 Score'], color='red', label='CES 3.0 Score', axlabel='Total CES Scores')\n",
    "plt.legend()\n",
    "ax.set_title('CES Scores')\n",
    "ax.set(ylabel='Frequency')"
   ]
  },
  {
   "cell_type": "markdown",
   "metadata": {},
   "source": [
    "It's interpreted that the Diesel Particulate Matter Percentile has increased between CES 2.0 and 3.0, meaning that Diesel Particulate Matter emissions from on-road aand non-road sources had increased. Both 2.0 and 3.0 resemble bimodal distributions."
   ]
  },
  {
   "cell_type": "code",
   "execution_count": 9,
   "metadata": {},
   "outputs": [
    {
     "name": "stdout",
     "output_type": "stream",
     "text": [
      "Diesel PM Percentile in CES 3.0 is greater than the CES 2.0 Diesel PM Percentile in (21/29) of the Census Tracts\n"
     ]
    },
    {
     "data": {
      "image/png": "[encoded data removed]",
      "text/plain": [
       "<Figure size 1211.75x360 with 1 Axes>"
      ]
     },
     "metadata": {
      "needs_background": "light"
     },
     "output_type": "display_data"
    }
   ],
   "source": [
    "df = combined_dat[['Census Tract', 'Diesel PM Pctl_old', 'Diesel PM Pctl_new']].copy()\n",
    "df = df.melt('Census Tract', var_name='Diesel PM', value_name='Diesel PM Percentile')\n",
    "g = sns.catplot(x='Census Tract', y='Diesel PM Percentile', hue='Diesel PM',data=df, kind='bar', height=5, aspect=3)\n",
    "print('Diesel PM Percentile in CES 3.0 is greater than the CES 2.0 Diesel PM Percentile in (' + str(len(combined_dat.loc[combined_dat['Diesel PM Pctl_old'] < combined_dat['Diesel PM Pctl_new']])) + '/29) of the Census Tracts')"
   ]
  },
  {
   "cell_type": "code",
   "execution_count": 10,
   "metadata": {},
   "outputs": [
    {
     "name": "stderr",
     "output_type": "stream",
     "text": [
      "/opt/conda/lib/python3.8/site-packages/seaborn/distributions.py:2557: FutureWarning: `distplot` is a deprecated function and will be removed in a future version. Please adapt your code to use either `displot` (a figure-level function with similar flexibility) or `histplot` (an axes-level function for histograms).\n",
      "  warnings.warn(msg, FutureWarning)\n",
      "/opt/conda/lib/python3.8/site-packages/seaborn/distributions.py:2557: FutureWarning: `distplot` is a deprecated function and will be removed in a future version. Please adapt your code to use either `displot` (a figure-level function with similar flexibility) or `histplot` (an axes-level function for histograms).\n",
      "  warnings.warn(msg, FutureWarning)\n"
     ]
    },
    {
     "data": {
      "text/plain": [
       "[Text(0, 0.5, 'Frequency')]"
      ]
     },
     "execution_count": 10,
     "metadata": {},
     "output_type": "execute_result"
    },
    {
     "data": {
      "image/png": "[encoded data removed]",
      "text/plain": [
       "<Figure size 432x288 with 1 Axes>"
      ]
     },
     "metadata": {
      "needs_background": "light"
     },
     "output_type": "display_data"
    }
   ],
   "source": [
    "ax = sns.distplot(combined_dat['Diesel PM Pctl_old'], color='skyblue', label='Diesel PM Pctl 2.0')\n",
    "sns.distplot(combined_dat['Diesel PM Pctl_new'], color='red', label='Diesel PM Pctl 3.0', axlabel='Diesel PM')\n",
    "plt.legend()\n",
    "ax.set_title('Diesel PM')\n",
    "ax.set(ylabel='Frequency')"
   ]
  },
  {
   "cell_type": "markdown",
   "metadata": {},
   "source": [
    "Groundwater threats, sum of weighted GeoTracker leaking underground storage tank sites  within buffered distances to populated blocks of census tracts. This shows that there isn't much change in the percentile ranking between CES 2.0 and 3.0 but rather a slight increase in frequency for groundwater threats. Both 2.0 and 3.0 mostly resemble bimodal distributions."
   ]
  },
  {
   "cell_type": "code",
   "execution_count": 11,
   "metadata": {
    "scrolled": true
   },
   "outputs": [
    {
     "name": "stdout",
     "output_type": "stream",
     "text": [
      "Groundwater Threats Percentile in CES 3.0 is greater than the CES 2.0 Groundwater Threats Percentile in (21/29) of the Census Tracts\n"
     ]
    },
    {
     "data": {
      "image/png": "[encoded data removed]",
      "text/plain": [
       "<Figure size 1268.88x360 with 1 Axes>"
      ]
     },
     "metadata": {
      "needs_background": "light"
     },
     "output_type": "display_data"
    }
   ],
   "source": [
    "df = combined_dat[['Census Tract', 'Groundwater Threats Pctl_old', 'Groundwater Threats Pctl_new']].copy()\n",
    "df = df.melt('Census Tract', var_name='Groundwater Threats', value_name='Groundwater Threats Percentile')\n",
    "g = sns.catplot(x='Census Tract', y='Groundwater Threats Percentile', hue='Groundwater Threats',data=df, kind='bar', height=5, aspect=3)\n",
    "print('Groundwater Threats Percentile in CES 3.0 is greater than the CES 2.0 Groundwater Threats Percentile in (' + str(len(combined_dat.loc[combined_dat['Groundwater Threats Pctl_old'] < combined_dat['Groundwater Threats Pctl_new']])) + '/29) of the Census Tracts')"
   ]
  },
  {
   "cell_type": "code",
   "execution_count": 12,
   "metadata": {},
   "outputs": [
    {
     "name": "stderr",
     "output_type": "stream",
     "text": [
      "/opt/conda/lib/python3.8/site-packages/seaborn/distributions.py:2557: FutureWarning: `distplot` is a deprecated function and will be removed in a future version. Please adapt your code to use either `displot` (a figure-level function with similar flexibility) or `histplot` (an axes-level function for histograms).\n",
      "  warnings.warn(msg, FutureWarning)\n",
      "/opt/conda/lib/python3.8/site-packages/seaborn/distributions.py:2557: FutureWarning: `distplot` is a deprecated function and will be removed in a future version. Please adapt your code to use either `displot` (a figure-level function with similar flexibility) or `histplot` (an axes-level function for histograms).\n",
      "  warnings.warn(msg, FutureWarning)\n"
     ]
    },
    {
     "data": {
      "text/plain": [
       "[Text(0, 0.5, 'Frequency')]"
      ]
     },
     "execution_count": 12,
     "metadata": {},
     "output_type": "execute_result"
    },
    {
     "data": {
      "image/png": "[encoded data removed]",
      "text/plain": [
       "<Figure size 432x288 with 1 Axes>"
      ]
     },
     "metadata": {
      "needs_background": "light"
     },
     "output_type": "display_data"
    }
   ],
   "source": [
    "ax = sns.distplot(combined_dat['Groundwater Threats Pctl_old'], color='skyblue', label='Groundwater Threats Pctl 2.0')\n",
    "sns.distplot(combined_dat['Groundwater Threats Pctl_new'], color='red', label='Groundwater Threats Pctl 3.0', axlabel='Groundwater Threats Percentile')\n",
    "plt.legend()\n",
    "ax.set_title('Groundwater Threats')\n",
    "ax.set(ylabel='Frequency')"
   ]
  },
  {
   "cell_type": "markdown",
   "metadata": {},
   "source": [
    "Toxicity-weighted concentrations of modeled chemical releases to air from facility emissions and off-site incineration (from RSEI). This shows that there seems to be a right skew for both CES 2.0 and 3.0, however, it seems that there has been an increase between CES 2.0 and 3.0 of toxic release."
   ]
  },
  {
   "cell_type": "code",
   "execution_count": 13,
   "metadata": {},
   "outputs": [
    {
     "name": "stdout",
     "output_type": "stream",
     "text": [
      "Toxic Release Percentile in CES 3.0 is greater than the CES 2.0 Toxic Release Percentile in (22/29)\n",
      "of the Census Tracts\n"
     ]
    },
    {
     "data": {
      "image/png": "[encoded data removed]",
      "text/plain": [
       "<Figure size 1224.25x360 with 1 Axes>"
      ]
     },
     "metadata": {
      "needs_background": "light"
     },
     "output_type": "display_data"
    }
   ],
   "source": [
    "df = combined_dat[['Census Tract', 'Tox. Release Pctl_old', 'Tox. Release Pctl_new']].copy()\n",
    "df = df.melt('Census Tract', var_name='Toxic Release', value_name='Toxic Release Percentile')\n",
    "g = sns.catplot(x='Census Tract', y='Toxic Release Percentile', hue='Toxic Release',data=df, kind='bar', height=5, aspect=3)\n",
    "print('Toxic Release Percentile in CES 3.0 is greater than the CES 2.0 Toxic Release Percentile in (' + str(len(combined_dat.loc[combined_dat['Tox. Release Pctl_old'] < combined_dat['Tox. Release Pctl_new']])) + '/29)\\nof the Census Tracts')"
   ]
  },
  {
   "cell_type": "code",
   "execution_count": 14,
   "metadata": {},
   "outputs": [
    {
     "name": "stderr",
     "output_type": "stream",
     "text": [
      "/opt/conda/lib/python3.8/site-packages/seaborn/distributions.py:2557: FutureWarning: `distplot` is a deprecated function and will be removed in a future version. Please adapt your code to use either `displot` (a figure-level function with similar flexibility) or `histplot` (an axes-level function for histograms).\n",
      "  warnings.warn(msg, FutureWarning)\n",
      "/opt/conda/lib/python3.8/site-packages/seaborn/distributions.py:2557: FutureWarning: `distplot` is a deprecated function and will be removed in a future version. Please adapt your code to use either `displot` (a figure-level function with similar flexibility) or `histplot` (an axes-level function for histograms).\n",
      "  warnings.warn(msg, FutureWarning)\n"
     ]
    },
    {
     "data": {
      "text/plain": [
       "[Text(0, 0.5, 'Frequency')]"
      ]
     },
     "execution_count": 14,
     "metadata": {},
     "output_type": "execute_result"
    },
    {
     "data": {
      "image/png": "[encoded data removed]",
      "text/plain": [
       "<Figure size 432x288 with 1 Axes>"
      ]
     },
     "metadata": {
      "needs_background": "light"
     },
     "output_type": "display_data"
    }
   ],
   "source": [
    "ax = sns.distplot(combined_dat['Tox. Release Pctl_old'], color='skyblue', label='Tox. Release Pctl 2.0')\n",
    "sns.distplot(combined_dat['Tox. Release Pctl_new'], color='red', label='Tox. Release Pctl 3.0', axlabel='Toxic Release Percentile')\n",
    "plt.legend()\n",
    "ax.set_title('Toxic Release')\n",
    "ax.set(ylabel='Frequency')"
   ]
  },
  {
   "cell_type": "markdown",
   "metadata": {},
   "source": [
    "Sum of weighted hazardous waste facilities and large quantity generators within buffered distances to populated blocks of census tracts. It appears that there is a slight increase in hazardous waste, as the percentile between CES 2.0 and 3.0 has generally increased. Both 2.0 and 3.0 seems to have bimodal distributions."
   ]
  },
  {
   "cell_type": "code",
   "execution_count": 15,
   "metadata": {},
   "outputs": [
    {
     "name": "stdout",
     "output_type": "stream",
     "text": [
      "Hazardous Waste Percentile in CES 3.0 is greater than the CES 2.0 Hazardous Waste Percentile in (20/29)\n",
      "of the Census Tracts\n"
     ]
    },
    {
     "data": {
      "image/png": "[encoded data removed]",
      "text/plain": [
       "<Figure size 1218.75x360 with 1 Axes>"
      ]
     },
     "metadata": {
      "needs_background": "light"
     },
     "output_type": "display_data"
    }
   ],
   "source": [
    "df = combined_dat[['Census Tract', 'Haz. Waste Pctl_old', 'Haz. Waste Pctl_new']].copy()\n",
    "df = df.melt('Census Tract', var_name='Hazardous Waste', value_name='Hazardous Waste Percentile')\n",
    "g = sns.catplot(x='Census Tract', y='Hazardous Waste Percentile', hue='Hazardous Waste',data=df, kind='bar', height=5, aspect=3)\n",
    "print('Hazardous Waste Percentile in CES 3.0 is greater than the CES 2.0 Hazardous Waste Percentile in (' + str(len(combined_dat.loc[combined_dat['Haz. Waste Pctl_old'] < combined_dat['Haz. Waste Pctl_new']])) + '/29)\\nof the Census Tracts')"
   ]
  },
  {
   "cell_type": "code",
   "execution_count": 16,
   "metadata": {},
   "outputs": [
    {
     "name": "stderr",
     "output_type": "stream",
     "text": [
      "/opt/conda/lib/python3.8/site-packages/seaborn/distributions.py:2557: FutureWarning: `distplot` is a deprecated function and will be removed in a future version. Please adapt your code to use either `displot` (a figure-level function with similar flexibility) or `histplot` (an axes-level function for histograms).\n",
      "  warnings.warn(msg, FutureWarning)\n",
      "/opt/conda/lib/python3.8/site-packages/seaborn/distributions.py:2557: FutureWarning: `distplot` is a deprecated function and will be removed in a future version. Please adapt your code to use either `displot` (a figure-level function with similar flexibility) or `histplot` (an axes-level function for histograms).\n",
      "  warnings.warn(msg, FutureWarning)\n"
     ]
    },
    {
     "data": {
      "text/plain": [
       "[Text(0, 0.5, 'Frequency')]"
      ]
     },
     "execution_count": 16,
     "metadata": {},
     "output_type": "execute_result"
    },
    {
     "data": {
      "image/png": "[encoded data removed]",
      "text/plain": [
       "<Figure size 432x288 with 1 Axes>"
      ]
     },
     "metadata": {
      "needs_background": "light"
     },
     "output_type": "display_data"
    }
   ],
   "source": [
    "ax = sns.distplot(combined_dat['Haz. Waste Pctl_old'], color='skyblue', label='Haz. Waste Pctl 2.0')\n",
    "sns.distplot(combined_dat['Haz. Waste Pctl_new'], color='red', label='Haz. Waste Pctl 3.0', axlabel='Haz. Waste Percentile')\n",
    "plt.legend()\n",
    "ax.set_title('Hazardous Waste')\n",
    "ax.set(ylabel='Frequency')"
   ]
  },
  {
   "cell_type": "markdown",
   "metadata": {},
   "source": [
    "This shows the amount of solid waste. Sum of weighted solid waste sites and facilities (SWIS) within  buffered distances to populated blocks of census tracts. It is interepreted that the higher the number, the more solid waste. This shows that there is a general increase in the solid waste percentile between CES 2.0 and 3.0. Both 2.0 and 3.0 appear to show bimodal distributions."
   ]
  },
  {
   "cell_type": "code",
   "execution_count": 17,
   "metadata": {},
   "outputs": [
    {
     "name": "stdout",
     "output_type": "stream",
     "text": [
      "Solid Waste Percentile in CES 3.0 is greater than the CES 2.0 Solid Waste Percentile in (17/29)\n",
      "of the Census Tracts\n"
     ]
    },
    {
     "data": {
      "image/png": "[encoded data removed]",
      "text/plain": [
       "<Figure size 1221.12x360 with 1 Axes>"
      ]
     },
     "metadata": {
      "needs_background": "light"
     },
     "output_type": "display_data"
    }
   ],
   "source": [
    "df = combined_dat[['Census Tract', 'Solid Waste Pctl_old', 'Solid Waste Pctl_new']].copy()\n",
    "df = df.melt('Census Tract', var_name='Solid Waste', value_name='Solid Waste Percentile')\n",
    "g = sns.catplot(x='Census Tract', y='Solid Waste Percentile', hue='Solid Waste', data=df, kind='bar', height=5, aspect=3)\n",
    "\n",
    "print('Solid Waste Percentile in CES 3.0 is greater than the CES 2.0 Solid Waste Percentile in (' + str(len(combined_dat.loc[combined_dat['Solid Waste Pctl_old'] < combined_dat['Solid Waste Pctl_new']])) + '/29)\\nof the Census Tracts')"
   ]
  },
  {
   "cell_type": "code",
   "execution_count": 18,
   "metadata": {},
   "outputs": [
    {
     "name": "stderr",
     "output_type": "stream",
     "text": [
      "/opt/conda/lib/python3.8/site-packages/seaborn/distributions.py:2557: FutureWarning: `distplot` is a deprecated function and will be removed in a future version. Please adapt your code to use either `displot` (a figure-level function with similar flexibility) or `histplot` (an axes-level function for histograms).\n",
      "  warnings.warn(msg, FutureWarning)\n",
      "/opt/conda/lib/python3.8/site-packages/seaborn/distributions.py:2557: FutureWarning: `distplot` is a deprecated function and will be removed in a future version. Please adapt your code to use either `displot` (a figure-level function with similar flexibility) or `histplot` (an axes-level function for histograms).\n",
      "  warnings.warn(msg, FutureWarning)\n"
     ]
    },
    {
     "data": {
      "text/plain": [
       "[Text(0, 0.5, 'Frequency')]"
      ]
     },
     "execution_count": 18,
     "metadata": {},
     "output_type": "execute_result"
    },
    {
     "data": {
      "image/png": "[encoded data removed]",
      "text/plain": [
       "<Figure size 432x288 with 1 Axes>"
      ]
     },
     "metadata": {
      "needs_background": "light"
     },
     "output_type": "display_data"
    }
   ],
   "source": [
    "ax = sns.distplot(combined_dat['Solid Waste Pctl_old'], color='skyblue', label='Solid Waste Pctl 2.0')\n",
    "sns.distplot(combined_dat['Solid Waste Pctl_new'], color='red', label='Solid Waste Pctl 3.0', axlabel='Solid Waste Percentile')\n",
    "plt.legend()\n",
    "ax.set_title('Solid Waste')\n",
    "ax.set(ylabel='Frequency')"
   ]
  },
  {
   "cell_type": "markdown",
   "metadata": {},
   "source": [
    "Pollution burden which is the average of percentiles from the Pollution Burden indicators with a half weighting for the Environmental Effects indicators. It is interpreted that a higher number means higher level of pollution burden. It appears that the pollution burden has increased between CES 2.0 and 3.0. CES 2.0 seems to have a more normal distribution whereas 3.0 has one closer to bimodal."
   ]
  },
  {
   "cell_type": "code",
   "execution_count": 19,
   "metadata": {},
   "outputs": [
    {
     "name": "stdout",
     "output_type": "stream",
     "text": [
      "Pollution Burden Percentile in CES 3.0 is greater than the CES 2.0 Pollution Burden Percentile in (25/29)\n",
      "of the Census Tracts\n"
     ]
    },
    {
     "data": {
      "image/png": "[encoded data removed]",
      "text/plain": [
       "<Figure size 1245.12x360 with 1 Axes>"
      ]
     },
     "metadata": {
      "needs_background": "light"
     },
     "output_type": "display_data"
    }
   ],
   "source": [
    "df = combined_dat[['Census Tract', 'Pollution Burden Pctl_old', 'Pollution Burden Pctl_new']].copy()\n",
    "df = df.melt('Census Tract', var_name='Pollution Burden', value_name='Pollution Burden Percentile')\n",
    "g = sns.catplot(x='Census Tract', y='Pollution Burden Percentile', hue='Pollution Burden', data=df, kind='bar', height=5, aspect=3)\n",
    "print('Pollution Burden Percentile in CES 3.0 is greater than the CES 2.0 Pollution Burden Percentile in (' + str(len(combined_dat.loc[combined_dat['Pollution Burden Pctl_old'] < combined_dat['Pollution Burden Pctl_new']])) + '/29)\\nof the Census Tracts')"
   ]
  },
  {
   "cell_type": "code",
   "execution_count": 20,
   "metadata": {},
   "outputs": [
    {
     "name": "stderr",
     "output_type": "stream",
     "text": [
      "/opt/conda/lib/python3.8/site-packages/seaborn/distributions.py:2557: FutureWarning: `distplot` is a deprecated function and will be removed in a future version. Please adapt your code to use either `displot` (a figure-level function with similar flexibility) or `histplot` (an axes-level function for histograms).\n",
      "  warnings.warn(msg, FutureWarning)\n",
      "/opt/conda/lib/python3.8/site-packages/seaborn/distributions.py:2557: FutureWarning: `distplot` is a deprecated function and will be removed in a future version. Please adapt your code to use either `displot` (a figure-level function with similar flexibility) or `histplot` (an axes-level function for histograms).\n",
      "  warnings.warn(msg, FutureWarning)\n"
     ]
    },
    {
     "data": {
      "text/plain": [
       "[Text(0, 0.5, 'Frequency')]"
      ]
     },
     "execution_count": 20,
     "metadata": {},
     "output_type": "execute_result"
    },
    {
     "data": {
      "image/png": "[encoded data removed]",
      "text/plain": [
       "<Figure size 432x288 with 1 Axes>"
      ]
     },
     "metadata": {
      "needs_background": "light"
     },
     "output_type": "display_data"
    }
   ],
   "source": [
    "ax = sns.distplot(combined_dat['Pollution Burden Pctl_old'], color='skyblue', label='Pollution Burden Pctl 2.0')\n",
    "sns.distplot(combined_dat['Pollution Burden Pctl_new'], color='red', label='Pollution Burden Pctl 3.0', axlabel='Pollution Burden Percentile')\n",
    "plt.legend()\n",
    "ax.set_title('Pollution Burden')\n",
    "ax.set(ylabel='Frequency')"
   ]
  },
  {
   "cell_type": "markdown",
   "metadata": {},
   "source": [
    "# Ethics & Privacy"
   ]
  },
  {
   "cell_type": "markdown",
   "metadata": {},
   "source": [
    "There has been no detected privacy issues with this research. No personal data was used in the datasets. The only potential ethical concern would be based upon how the data was collected that was used in this research. For example, the people collecting the data may purposefully added/removed information from the data set to make the data appear worse/better than it actually is. Besides this, there are no other ethical concerns."
   ]
  },
  {
   "cell_type": "markdown",
   "metadata": {},
   "source": [
    "# Conclusion & Discussion"
   ]
  },
  {
   "cell_type": "markdown",
   "metadata": {},
   "source": [
    "After doing the data analysis, it appears that there has been an increase in overall threat to the San Diego parks system. Generally, it seems that from 2014 to 2017: solid waste, diesel consumption, toxic release, hazardous waste, pollution burden, ground water threats and other climate change enabling factors have gone up. From reference 3, the action plan of 2005 to reduce factors that increase climate change seems to not be working. However, this does not necesarilly prove that CO2 emissions were increased. It just shows that contributing factors of CO2 emissions have increased. \n",
    "\n",
    "The biggest limitation that was found was having all the data needed. Ideally, it would have been beneficial having the data on CO2 emissions and specific population information to use as an indicator in regards to the implementation of the 2005 plan and having the data provided being more up to date (since the \"newer data\" is 2017). Having the data given in the CES 2.0 and 3.0 datasets, it helps give an idea as to what the carbon emissions may be like, but it does not tell us if there has actually been an increase in emissions or not. Because of this, it is hard to reject or fail to reject the hypothesis due to the lack of CO2 data, however, it can be concluded that the level of pollution has increased which could mean that emissions have gone up. It would be recommended that the Parks and Rec system of San Diego continues, for example, keeping the parks free of trash, maintaining clean water, and limiting CO2 emissions by adding more trash cans, hiring more people to maintain the parks, protecting clean water lines from potential water-polluting threats, and using recycled material and water as much as possible.\n",
    "\n",
    "The impact of this work on society is quite large. Knowing what we are doing as a collective group that is contributing to climate change can help us alter our actions so that we can perserve the Earth. Seeing data like this is eye-opening to the fact that we need to change what we are doing to put ourselves on the right path. From the data between 2014 and 2017, it was shown that things have been getting worse (at least in the San Diego area) in regards to pollution and emissions. Knowing this, we can take the next appropriate steps to reduce our carbon footprint and change the path that we are currently on.  "
   ]
  }
 ],
 "metadata": {
  "kernelspec": {
   "display_name": "Python 3",
   "language": "python",
   "name": "python3"
  },
  "language_info": {
   "codemirror_mode": {
    "name": "ipython",
    "version": 3
   },
   "file_extension": ".py",
   "mimetype": "text/x-python",
   "name": "python",
   "nbconvert_exporter": "python",
   "pygments_lexer": "ipython3",
   "version": "3.8.6"
  }
 },
 "nbformat": 4,
 "nbformat_minor": 2
}
